{
 "cells": [
  {
   "cell_type": "code",
   "execution_count": 10,
   "id": "5ce3f6b7-e62f-4f2b-a35f-1b69baa6e5a5",
   "metadata": {},
   "outputs": [
    {
     "name": "stdout",
     "output_type": "stream",
     "text": [
      "***********************************************\n",
      "*<web3.main.Web3 object at 0x000001D0477E1000>*\n",
      "***********************************************\n"
     ]
    }
   ],
   "source": [
    "# Import the Web3 library\n",
    "from web3 import Web3\n",
    "\n",
    "# Import the RPC Provider\n",
    "from web3 import EthereumTesterProvider\n",
    "\n",
    "# Create an instance of Web3\n",
    "w3 = Web3()\n",
    "\n",
    "print(\"***********************************************\")\n",
    "print(f\"*{w3}*\")\n",
    "print(\"***********************************************\")\n",
    "\n",
    "\n",
    "provider = EthereumTesterProvider()\n",
    "\n",
    "#print(provider)\n",
    "\n",
    "w3 = Web3(provider)\n",
    "\n",
    "\n",
    "# Access information for the most recent block\n"
   ]
  },
  {
   "cell_type": "code",
   "execution_count": null,
   "id": "1faa13aa-88e9-4912-b23f-5c5f1a3504a4",
   "metadata": {},
   "outputs": [],
   "source": []
  }
 ],
 "metadata": {
  "kernelspec": {
   "display_name": "Python 3 (ipykernel)",
   "language": "python",
   "name": "python3"
  },
  "language_info": {
   "codemirror_mode": {
    "name": "ipython",
    "version": 3
   },
   "file_extension": ".py",
   "mimetype": "text/x-python",
   "name": "python",
   "nbconvert_exporter": "python",
   "pygments_lexer": "ipython3",
   "version": "3.7.13"
  }
 },
 "nbformat": 4,
 "nbformat_minor": 5
}
